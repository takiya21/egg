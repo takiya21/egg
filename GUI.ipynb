{
 "cells": [
  {
   "cell_type": "code",
   "execution_count": 1,
   "id": "31baf042-5674-48f6-b47f-f5880fe5ef7d",
   "metadata": {},
   "outputs": [
    {
     "name": "stdout",
     "output_type": "stream",
     "text": [
      "/home/nakamura/ganspace\n"
     ]
    }
   ],
   "source": [
    "%cd /home/nakamura/ganspace"
   ]
  },
  {
   "cell_type": "code",
   "execution_count": 2,
   "id": "69c91a32-eba2-4c9c-b8de-3d47c365eeee",
   "metadata": {},
   "outputs": [
    {
     "name": "stdout",
     "output_type": "stream",
     "text": [
      "StyleGAN2: Optimized CUDA op FusedLeakyReLU not available, using native PyTorch fallback.\n",
      "StyleGAN2: Optimized CUDA op UpFirDn2d not available, using native PyTorch fallback.\n"
     ]
    }
   ],
   "source": [
    "from IPython.utils import io\n",
    "import torch\n",
    "import PIL\n",
    "import imageio\n",
    "import pickle\n",
    "import os\n",
    "import numpy as np\n",
    "import random\n",
    "import ipywidgets as widgets\n",
    "import matplotlib.pyplot as plt\n",
    "from PIL import Image\n",
    "from models import get_instrumented_model\n",
    "from decomposition import get_or_compute\n",
    "from config import Config\n",
    "from skimage import img_as_ubyte\n",
    "from ipywidgets import fixed"
   ]
  },
  {
   "cell_type": "markdown",
   "id": "58508a6b-0e4f-40d8-9a97-721443f9a6ca",
   "metadata": {},
   "source": [
    "### Load model"
   ]
  },
  {
   "cell_type": "code",
   "execution_count": 3,
   "id": "f070f313-c278-49dc-9b53-79bd9971f30a",
   "metadata": {},
   "outputs": [
    {
     "name": "stdout",
     "output_type": "stream",
     "text": [
      "checkpoint_root /home/nakamura/ganspace/models/checkpoints\n",
      "checkpoint /home/nakamura/ganspace/models/checkpoints/stylegan2/stylegan2_grain-final_256.pt\n"
     ]
    }
   ],
   "source": [
    "# Speed up computation\n",
    "torch.autograd.set_grad_enabled(False)\n",
    "torch.backends.cudnn.benchmark = True\n",
    "\n",
    "# Specify model to use\n",
    "config = Config(\n",
    "  model='StyleGAN2',\n",
    "  layer='style',\n",
    "  output_class='grain-final',\n",
    "  components=80,\n",
    "  use_w=True,\n",
    "  n=1_000_000,\n",
    "  batch_size=10_000, # style layer quite small\n",
    ")\n",
    "\n",
    "# config = Config(\n",
    "#   model='StyleGAN2',\n",
    "#   layer='style',\n",
    "#   output_class='ffhq',\n",
    "#   components=80,\n",
    "#   use_w=True,}\n",
    "#   n=1_000_000,\n",
    "#   batch_size=10_000, # style layer quite small\n",
    "# )\n",
    "\n",
    "\n",
    "inst = get_instrumented_model(config.model, config.output_class,\n",
    "                              config.layer, torch.device('cuda'), use_w=config.use_w)\n",
    "\n",
    "path_to_components = get_or_compute(config, inst)\n",
    "\n",
    "model = inst.model\n",
    "with open(path_to_components+'.pickle', mode='rb') as f:\n",
    "    transformer = pickle.load(f)\n",
    "\n",
    "named_directions = {} #init named_directions dict to save directions"
   ]
  },
  {
   "cell_type": "markdown",
   "id": "16c109bf-d859-4a40-823e-0032580633a4",
   "metadata": {},
   "source": [
    "## Multiple components\n",
    "### Load components"
   ]
  },
  {
   "cell_type": "code",
   "execution_count": 4,
   "id": "a9993773-fd01-41bd-b8a2-a90ef7d90d96",
   "metadata": {},
   "outputs": [
    {
     "name": "stdout",
     "output_type": "stream",
     "text": [
      "Loaded Component No. 1~6\n"
     ]
    }
   ],
   "source": [
    "comps = np.load(path_to_components)\n",
    "lst = comps.files\n",
    "latent_dirs = []\n",
    "latent_stdevs = []\n",
    "comp_dir = []\n",
    "comp_dir_stdev = []\n",
    "\n",
    "load_activations = True\n",
    "\n",
    "for item in lst:\n",
    "    if load_activations:\n",
    "      if item == 'act_comp':\n",
    "        for i in range(comps[item].shape[0]):\n",
    "          latent_dirs.append(comps[item][i])\n",
    "      if item == 'act_stdev':\n",
    "        for i in range(comps[item].shape[0]):\n",
    "          latent_stdevs.append(comps[item][i])\n",
    "    else:\n",
    "      if item == 'lat_comp':\n",
    "        for i in range(comps[item].shape[0]):\n",
    "          latent_dirs.append(comps[item][i])\n",
    "      if item == 'lat_stdev':\n",
    "        for i in range(comps[item].shape[0]):\n",
    "          latent_stdevs.append(comps[item][i])\n",
    "\n",
    "num = 6\n",
    "\n",
    "for i in range(num):\n",
    "    comp_dir.append(latent_dirs[i])\n",
    "    comp_dir_stdev.append(latent_stdevs[i])\n",
    "    \n",
    "print(f'Loaded Component No. 1~{num}')"
   ]
  },
  {
   "cell_type": "markdown",
   "id": "bb6a09c9-91ab-45c7-aecd-9c22da007d3e",
   "metadata": {},
   "source": [
    "### Run UI"
   ]
  },
  {
   "cell_type": "code",
   "execution_count": 5,
   "id": "6ccc5eb8-2bd2-4a78-819f-a921c87849b5",
   "metadata": {
    "tags": []
   },
   "outputs": [
    {
     "data": {
      "application/vnd.jupyter.widget-view+json": {
       "model_id": "51c655c858f1441b8565a8d6526900fb",
       "version_major": 2,
       "version_minor": 0
      },
      "text/plain": [
       "Output()"
      ]
     },
     "metadata": {},
     "output_type": "display_data"
    },
    {
     "data": {
      "application/vnd.jupyter.widget-view+json": {
       "model_id": "6ef1148e78ea47ca8127c021a8a5488a",
       "version_major": 2,
       "version_minor": 0
      },
      "text/plain": [
       "VBox(children=(VBox(children=(FloatSlider(value=0.0, continuous_update=False, description='d1: ', max=10.0, mi…"
      ]
     },
     "metadata": {},
     "output_type": "display_data"
    }
   ],
   "source": [
    "def display_sample_pytorch(seed, truncation, dir0, dir1, dir2, dir3, dir4, dir5, dim0, dim1, dim2, dim3, dim4, dim5, scale, start, end, disp=True, save=None, noise_spec=None):\n",
    "    # blockPrint()\n",
    "    # with io.capture_output() as captured:\n",
    "    param = []\n",
    "    inv = []\n",
    "    \n",
    "    w = model.sample_latent(1, seed=seed).cpu().numpy()\n",
    "\n",
    "    model.truncation = truncation\n",
    "    w = [w]*model.get_max_latents() # one per layer\n",
    "    for l in range(start, end):\n",
    "        w[l] =  dir0 * dim0 * scale + dir1 * dim1 * scale + dir2 * dim2 * scale + dir3 * dim3 * scale + dir4 * dim4 * scale + dir5 * dim5 * scale\n",
    "        param.append(transformer.transform(w[l]))\n",
    "    \n",
    "#     print(param[0][0][:num])\n",
    "    \n",
    "    #save image and display\n",
    "    out = model.sample_np(w)\n",
    "    final_im = Image.fromarray((out * 255).astype(np.uint8)).resize((256,256),Image.LANCZOS)\n",
    "\n",
    "    if disp:\n",
    "      display(final_im)\n",
    "\n",
    "    if save is not None:\n",
    "      if disp == False:\n",
    "        print(save)\n",
    "      final_im.save(f'out/{seed}_{save:05}.png')\n",
    "\n",
    "\n",
    "seed = np.random.randint(0,100000)\n",
    "style = {'description_width': 'initial'}\n",
    "\n",
    "seed = widgets.IntSlider(min=0, max=100000, step=1, value=seed, description='Seed: ', continuous_update=False)\n",
    "truncation = widgets.FloatSlider(min=0, max=2, step=0.1, value=0.7, description='Truncation: ', continuous_update=False)\n",
    "dim0 = widgets.FloatSlider(min=-10, max=10, step=0.1, value=0, description='d1: ', continuous_update=False, style=style)\n",
    "dim1 = widgets.FloatSlider(min=-10, max=10, step=0.1, value=0, description='d2: ', continuous_update=False, style=style)\n",
    "dim2 = widgets.FloatSlider(min=-10, max=10, step=0.1, value=0, description='d3: ', continuous_update=False, style=style)\n",
    "dim3 = widgets.FloatSlider(min=-10, max=10, step=0.1, value=0, description='d4: ', continuous_update=False, style=style)\n",
    "dim4 = widgets.FloatSlider(min=-10, max=10, step=0.1, value=0, description='d5: ', continuous_update=False, style=style)\n",
    "dim5 = widgets.FloatSlider(min=-10, max=10, step=0.1, value=0, description='d6: ', continuous_update=False, style=style)\n",
    "scale = widgets.FloatSlider(min=0, max=10, step=0.05, value=1, description='Scale: ', continuous_update=False)\n",
    "start_layer = widgets.IntSlider(min=0, max=model.get_max_latents(), step=1, value=0, description='start layer: ', continuous_update=False)\n",
    "end_layer = widgets.IntSlider(min=0, max=model.get_max_latents(), step=1, value=18, description='end layer: ', continuous_update=False)\n",
    "\n",
    "# Make sure layer range is valid\n",
    "def update_range_start(*args):\n",
    "  end_layer.min = start_layer.value\n",
    "def update_range_end(*args):\n",
    "  start_layer.max = end_layer.value\n",
    "start_layer.observe(update_range_start, 'value')\n",
    "end_layer.observe(update_range_end, 'value')\n",
    "\n",
    "text = widgets.Text(description=\"Name component here\", style=style, width=200)\n",
    "\n",
    "bot_box = widgets.VBox([dim0, dim1, dim2, dim3, dim4, dim5, scale, start_layer, end_layer, seed])\n",
    "ui = widgets.VBox([bot_box])\n",
    "\n",
    "out = widgets.interactive_output(display_sample_pytorch, {'seed': seed, 'truncation': truncation, 'dir0': fixed(comp_dir[0]), 'dir1': fixed(comp_dir[1]), 'dir2': fixed(comp_dir[2]), 'dir3': fixed(comp_dir[3]), 'dir4': fixed(comp_dir[4]), 'dir5': fixed(comp_dir[5]), 'dim0': dim0, 'dim1': dim1, 'dim2': dim2, 'dim3': dim3, 'dim4': dim4, 'dim5': dim5, 'scale': scale, 'start': start_layer, 'end': end_layer})\n",
    "\n",
    "display(out, ui)"
   ]
  },
  {
   "cell_type": "code",
   "execution_count": 53,
   "id": "1a2791f4-b04d-4861-a2b1-623b1fcccc36",
   "metadata": {},
   "outputs": [
    {
     "data": {
      "application/vnd.jupyter.widget-view+json": {
       "model_id": "9bacb9bcc0374f7580a246751fae09e7",
       "version_major": 2,
       "version_minor": 0
      },
      "text/plain": [
       "Output()"
      ]
     },
     "metadata": {},
     "output_type": "display_data"
    },
    {
     "data": {
      "application/vnd.jupyter.widget-view+json": {
       "model_id": "98c5b4f66f2f461e9decd09e0fe1ab9c",
       "version_major": 2,
       "version_minor": 0
      },
      "text/plain": [
       "VBox(children=(VBox(children=(IntSlider(value=6692, continuous_update=False, description='Seed: ', max=100000)…"
      ]
     },
     "metadata": {},
     "output_type": "display_data"
    }
   ],
   "source": [
    "def display_sample_pytorch(seed, truncation, dir0, dir1, dir2, dir3, dir4, dir5, dim0, dim1, dim2, dim3, dim4, dim5, scale, start, end, disp=True, save=None, noise_spec=None):\n",
    "    # blockPrint()\n",
    "    # with io.capture_output() as captured:\n",
    "    param = []\n",
    "    inv = []\n",
    "    \n",
    "    w = model.sample_latent(1, seed=seed).cpu().numpy()\n",
    "\n",
    "    model.truncation = truncation\n",
    "    w = [w]*model.get_max_latents() # one per layer\n",
    "    for l in range(start, end):\n",
    "        w[l] = w[l] + dir0 * dim0 * scale + dir1 * dim1 * scale + dir2 * dim2 * scale + dir3 * dim3 * scale + dir4 * dim4 * scale + dir5 * dim5 * scale\n",
    "        # param.append(transformer.transform(w[l]))\n",
    "        param.append(np.random.rand(1,6))\n",
    "        inv.append(transformer.inverse_transform(param[l]))\n",
    "        w[l][0] = inv[l][0].astype(np.float32)\n",
    "        \n",
    "    print(param[0][0][:num])\n",
    "\n",
    "    #save image and display\n",
    "    out = model.sample_np(w)\n",
    "    final_im = Image.fromarray((out * 255).astype(np.uint8)).resize((256,256),Image.LANCZOS)\n",
    "\n",
    "    if disp:\n",
    "      display(final_im)\n",
    "\n",
    "    if save is not None:\n",
    "      if disp == False:\n",
    "        print(save)\n",
    "      final_im.save(f'out/{seed}_{save:05}.png')\n",
    "\n",
    "\n",
    "seed = np.random.randint(0,100000)\n",
    "style = {'description_width': 'initial'}\n",
    "\n",
    "seed = widgets.IntSlider(min=0, max=100000, step=1, value=seed, description='Seed: ', continuous_update=False)\n",
    "truncation = widgets.FloatSlider(min=0, max=2, step=0.1, value=0.7, description='Truncation: ', continuous_update=False)\n",
    "dim0 = widgets.FloatSlider(min=-10, max=10, step=0.1, value=0, description='Comp1: ', continuous_update=False, style=style)\n",
    "dim1 = widgets.FloatSlider(min=-10, max=10, step=0.1, value=0, description='Comp2: ', continuous_update=False, style=style)\n",
    "dim2 = widgets.FloatSlider(min=-10, max=10, step=0.1, value=0, description='Comp3: ', continuous_update=False, style=style)\n",
    "dim3 = widgets.FloatSlider(min=-10, max=10, step=0.1, value=0, description='Comp4: ', continuous_update=False, style=style)\n",
    "dim4 = widgets.FloatSlider(min=-10, max=10, step=0.1, value=0, description='Comp5: ', continuous_update=False, style=style)\n",
    "dim5 = widgets.FloatSlider(min=-10, max=10, step=0.1, value=0, description='Comp6: ', continuous_update=False, style=style)\n",
    "scale = widgets.FloatSlider(min=0, max=10, step=0.05, value=1, description='Scale: ', continuous_update=False)\n",
    "start_layer = widgets.IntSlider(min=0, max=model.get_max_latents(), step=1, value=0, description='start layer: ', continuous_update=False)\n",
    "end_layer = widgets.IntSlider(min=0, max=model.get_max_latents(), step=1, value=18, description='end layer: ', continuous_update=False)\n",
    "\n",
    "# Make sure layer range is valid\n",
    "def update_range_start(*args):\n",
    "  end_layer.min = start_layer.value\n",
    "def update_range_end(*args):\n",
    "  start_layer.max = end_layer.value\n",
    "start_layer.observe(update_range_start, 'value')\n",
    "end_layer.observe(update_range_end, 'value')\n",
    "\n",
    "text = widgets.Text(description=\"Name component here\", style=style, width=200)\n",
    "\n",
    "bot_box = widgets.VBox([seed, dim0, dim1, dim2, dim3, dim4, dim5, scale, start_layer, end_layer])\n",
    "ui = widgets.VBox([bot_box])\n",
    "\n",
    "out = widgets.interactive_output(display_sample_pytorch, {'seed': seed, 'truncation': truncation, 'dir0': fixed(comp_dir[0]), 'dir1': fixed(comp_dir[1]), 'dir2': fixed(comp_dir[2]), 'dir3': fixed(comp_dir[3]), 'dir4': fixed(comp_dir[4]), 'dir5': fixed(comp_dir[5]), 'dim0': dim0, 'dim1': dim1, 'dim2': dim2, 'dim3': dim3, 'dim4': dim4, 'dim5': dim5, 'scale': scale, 'start': start_layer, 'end': end_layer})\n",
    "\n",
    "display(out, ui)"
   ]
  },
  {
   "cell_type": "markdown",
   "id": "b7f806c3-18c1-466c-b7a5-3669770c7fc7",
   "metadata": {},
   "source": [
    "## Single component\n",
    "### Load a component"
   ]
  },
  {
   "cell_type": "code",
   "execution_count": 5,
   "id": "410d4b24-178b-4edb-9f27-ec53f953ba35",
   "metadata": {},
   "outputs": [
    {
     "name": "stdout",
     "output_type": "stream",
     "text": [
      "Loaded Component No. 10\n"
     ]
    }
   ],
   "source": [
    "comps = np.load(path_to_components)\n",
    "lst = comps.files\n",
    "latent_dirs = []\n",
    "latent_stdevs = []\n",
    "comp_dir = []\n",
    "comp_dir_stdev = []\n",
    "\n",
    "load_activations = True\n",
    "\n",
    "for item in lst:\n",
    "    if load_activations:\n",
    "      if item == 'act_comp':\n",
    "        for i in range(comps[item].shape[0]):\n",
    "          latent_dirs.append(comps[item][i])\n",
    "      if item == 'act_stdev':\n",
    "        for i in range(comps[item].shape[0]):\n",
    "          latent_stdevs.append(comps[item][i])\n",
    "    else:\n",
    "      if item == 'lat_comp':\n",
    "        for i in range(comps[item].shape[0]):\n",
    "          latent_dirs.append(comps[item][i])\n",
    "      if item == 'lat_stdev':\n",
    "        for i in range(comps[item].shape[0]):\n",
    "          latent_stdevs.append(comps[item][i])\n",
    "            \n",
    "#load one at random \n",
    "# num = np.random.randint(20)\n",
    "# if num in named_directions.values():\n",
    "#   print(f'Direction already named: {list(named_directions.keys())[list(named_directions.values()).index(num)]}')\n",
    "\n",
    "num = 10\n",
    "\n",
    "# comp_dir = latent_dirs[num]\n",
    "# comp_dir_stdev = latent_stdevs[num]\n",
    "\n",
    "comp_dir.append(latent_dirs[num])\n",
    "comp_dir_stdev.append(latent_stdevs[num])\n",
    "    \n",
    "print(f'Loaded Component No. {num}')\n"
   ]
  },
  {
   "cell_type": "markdown",
   "id": "9c7cd982-6552-4a38-8367-479514e3af07",
   "metadata": {},
   "source": [
    "### Run UI"
   ]
  },
  {
   "cell_type": "code",
   "execution_count": 7,
   "id": "98004a39-180a-402a-a0b0-9ee205c83461",
   "metadata": {},
   "outputs": [
    {
     "data": {
      "application/vnd.jupyter.widget-view+json": {
       "model_id": "b7d81c2f4a9d4c2bb0095cfe5e36d62c",
       "version_major": 2,
       "version_minor": 0
      },
      "text/plain": [
       "Output()"
      ]
     },
     "metadata": {},
     "output_type": "display_data"
    },
    {
     "data": {
      "application/vnd.jupyter.widget-view+json": {
       "model_id": "6645e407934f4d5ab1169bef9edd1a0b",
       "version_major": 2,
       "version_minor": 0
      },
      "text/plain": [
       "VBox(children=(VBox(children=(IntSlider(value=47596, continuous_update=False, description='Seed: ', max=100000…"
      ]
     },
     "metadata": {},
     "output_type": "display_data"
    }
   ],
   "source": [
    "def display_sample_pytorch(seed, truncation, dir0, dim0, scale, start, end, disp=True, save=None, noise_spec=None):\n",
    "    # blockPrint()\n",
    "    # with io.capture_output() as captured:\n",
    "    param = []\n",
    "    w = model.sample_latent(1, seed=seed).cpu().numpy()\n",
    "\n",
    "    model.truncation = truncation\n",
    "    w = [w]*model.get_max_latents() # one per layer\n",
    "    for l in range(start, end):\n",
    "      w[l] = w[l] + dir0 * dim0 * scale \n",
    "      param.append(transformer.transform(w[l]))\n",
    "        \n",
    "#     print(param[0][0][num])\n",
    "\n",
    "    #save image and display\n",
    "    out = model.sample_np(w)\n",
    "    final_im = Image.fromarray((out * 255).astype(np.uint8)).resize((256,256),Image.LANCZOS)\n",
    "\n",
    "    if disp:\n",
    "      display(final_im)\n",
    "    if save is not None:\n",
    "      if disp == False:\n",
    "        print(save)\n",
    "      final_im.save(f'out/{seed}_{save:05}.png')\n",
    "\n",
    "\n",
    "seed = np.random.randint(0,100000)\n",
    "style = {'description_width': 'initial'}\n",
    "\n",
    "seed = widgets.IntSlider(min=0, max=100000, step=1, value=seed, description='Seed: ', continuous_update=False)\n",
    "truncation = widgets.FloatSlider(min=0, max=2, step=0.1, value=0.7, description='Truncation: ', continuous_update=False)\n",
    "dim0 = widgets.FloatSlider(min=-10, max=10, step=0.1, value=0, description='SelectedComp: ', continuous_update=False, style=style)\n",
    "scale = widgets.FloatSlider(min=0, max=10, step=0.05, value=1, description='Scale: ', continuous_update=False)\n",
    "start_layer = widgets.IntSlider(min=0, max=model.get_max_latents(), step=1, value=0, description='start layer: ', continuous_update=False)\n",
    "end_layer = widgets.IntSlider(min=0, max=model.get_max_latents(), step=1, value=18, description='end layer: ', continuous_update=False)\n",
    "\n",
    "# Make sure layer range is valid\n",
    "def update_range_start(*args):\n",
    "  end_layer.min = start_layer.value\n",
    "def update_range_end(*args):\n",
    "  start_layer.max = end_layer.value\n",
    "start_layer.observe(update_range_start, 'value')\n",
    "end_layer.observe(update_range_end, 'value')\n",
    "\n",
    "text = widgets.Text(description=\"Name component here\", style=style, width=200)\n",
    "\n",
    "bot_box = widgets.VBox([seed, dim0, scale, start_layer, end_layer])\n",
    "ui = widgets.VBox([bot_box])\n",
    "\n",
    "out = widgets.interactive_output(display_sample_pytorch, {'seed': seed, 'truncation': truncation, 'dir0': fixed(comp_dir[0]), 'dim0': dim0, 'scale': scale, 'start': start_layer, 'end': end_layer})\n",
    "\n",
    "display(out, ui)\n"
   ]
  },
  {
   "cell_type": "markdown",
   "id": "cde77ebf-9968-4b9a-a974-381a941bdd72",
   "metadata": {},
   "source": [
    "# Convert w to param"
   ]
  },
  {
   "cell_type": "code",
   "execution_count": 5,
   "id": "2a7f168e-b012-4171-8f80-1b50c33778d2",
   "metadata": {},
   "outputs": [
    {
     "name": "stdout",
     "output_type": "stream",
     "text": [
      "(34, 512)\n",
      "[[ 0.3440561  -0.950136    0.5900445  ... -0.62184376 -0.43264222\n",
      "   1.2390425 ]\n",
      " [ 0.37139365 -0.6246364   0.80698174 ... -1.2422309  -1.9276294\n",
      "  -0.23519118]\n",
      " [-0.09118952 -0.20676489  1.1669356  ... -0.7095085   1.6524553\n",
      "   0.98981756]\n",
      " ...\n",
      " [ 0.79115605 -0.30226016 -0.20428316 ... -0.8007261   0.14960529\n",
      "   0.93486595]\n",
      " [ 1.0991617  -0.961632    0.8275591  ...  0.46156552 -1.6141889\n",
      "   0.42750245]\n",
      " [ 0.14710009 -1.0717025   0.20085426 ... -0.7783195   0.9358142\n",
      "   0.01562361]]\n"
     ]
    }
   ],
   "source": [
    "w_test = np.load('questionnaire/w_test.npy')\n",
    "print(w_test.shape)\n",
    "print(w_test)\n",
    "param_test = transformer.transform(w_test)\n",
    "print(param_test.shape)\n",
    "print(param_test)\n",
    "np.save('questionnaire/param_test.npy', param_test)"
   ]
  }
 ],
 "metadata": {
  "kernelspec": {
   "display_name": "Python 3.8.5 ('base': conda)",
   "language": "python",
   "name": "python3"
  },
  "language_info": {
   "codemirror_mode": {
    "name": "ipython",
    "version": 3
   },
   "file_extension": ".py",
   "mimetype": "text/x-python",
   "name": "python",
   "nbconvert_exporter": "python",
   "pygments_lexer": "ipython3",
   "version": "3.8.5"
  },
  "vscode": {
   "interpreter": {
    "hash": "7cc5ae00119416989c9c0096dc10a3334cd3b043f2fc640f46b6b94f2ca4544b"
   }
  }
 },
 "nbformat": 4,
 "nbformat_minor": 5
}
