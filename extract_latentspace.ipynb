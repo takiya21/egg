{
 "cells": [
  {
   "cell_type": "code",
   "execution_count": 2,
   "id": "69c91a32-eba2-4c9c-b8de-3d47c365eeee",
   "metadata": {},
   "outputs": [],
   "source": [
    "from IPython.utils import io\n",
    "import torch\n",
    "import PIL\n",
    "import pickle\n",
    "import os\n",
    "import numpy as np\n",
    "import pandas as pd\n",
    "import random\n",
    "import ipywidgets as widgets\n",
    "import matplotlib.pyplot as plt\n",
    "from PIL import Image\n",
    "from ipywidgets import fixed\n",
    "\n",
    "from __future__ import print_function\n",
    "import argparse\n",
    "import os\n",
    "import random\n",
    "from re import X\n",
    "from cv2 import log\n",
    "import torch\n",
    "import torch.nn as nn\n",
    "import torch.nn.parallel\n",
    "import torch.backends.cudnn as cudnn\n",
    "import torch.optim as optim\n",
    "from torch.optim import lr_scheduler\n",
    "import torch.utils.data\n",
    "from torch.utils.data import DataLoader, Dataset\n",
    "import torchvision\n",
    "import torchvision.datasets as dset\n",
    "import torchvision.transforms as transforms\n",
    "import torchvision.utils as vutils\n",
    "from torchvision.datasets import MNIST\n",
    "import numpy as np\n",
    "import matplotlib.pyplot as plt\n",
    "import matplotlib.animation as animation\n",
    "from IPython.display import HTML\n",
    "\n",
    "from PIL import Image\n",
    "from pathlib import Path\n",
    "from tqdm import tqdm\n",
    "from tqdm.notebook import trange, tqdm\n",
    "\n",
    "from model.vae import VAE\n",
    "from model.pytorch_vae import pytorch_VAE\n",
    "import image_folder as ImageFolder\n",
    "import log as log\n",
    "\n",
    "import sklearn #機械学習のライブラリ\n",
    "from sklearn.decomposition import PCA #主成分分析器"
   ]
  },
  {
   "cell_type": "markdown",
   "id": "47951de3",
   "metadata": {},
   "source": [
    "# MNSIT reconst"
   ]
  },
  {
   "cell_type": "code",
   "execution_count": 34,
   "id": "e14cb6c0",
   "metadata": {},
   "outputs": [
    {
     "name": "stdout",
     "output_type": "stream",
     "text": [
      "linear_bottleneck:1024\n",
      "Random Seed:  0\n"
     ]
    },
    {
     "data": {
      "text/plain": [
       "<torch._C.Generator at 0x7f2468078a90>"
      ]
     },
     "execution_count": 34,
     "metadata": {},
     "output_type": "execute_result"
    }
   ],
   "source": [
    "usedata = \"MNIST\"\n",
    "\n",
    "linear_bottleneck = 1024\n",
    "b = 0.001\n",
    "manualSeed = 0\n",
    "decode_type = 'upsamp'\n",
    "\n",
    "data_dir = \"/dataset/dataset/egg/nomal_egg\"\n",
    "#data_dir = '/home/taki/egg/data/egg/nomal_egg'\n",
    "print(f\"linear_bottleneck:{linear_bottleneck}\")\n",
    "#log_path = f'/home/taki/egg/log/vae/for_egg/{decode_type}_linear{linear_bottleneck}_b{b}_nomalegg_dim128_8_8'\n",
    "log_path = \"/home/taki/egg/log/vae/mnist/0808_mse_bottleneck1024_b1e-06\"\n",
    "\n",
    "# 再現性のためにrandom seedを設定する\n",
    "print(\"Random Seed: \", manualSeed)\n",
    "random.seed(manualSeed)\n",
    "torch.manual_seed(manualSeed)\n"
   ]
  },
  {
   "cell_type": "code",
   "execution_count": 44,
   "id": "c092fc3a",
   "metadata": {},
   "outputs": [],
   "source": [
    "img_transform = torchvision.transforms.Compose([\n",
    "                transforms.ToTensor()\n",
    "])\n",
    "# dataset\n",
    "dataset = MNIST('./data', train = True, download=False, transform=img_transform)\n",
    "train_size = int(len(dataset) * 0.8)\n",
    "validation_size = len(dataset) - train_size\n",
    "train_dataset, val_dataset = torch.utils.data.random_split(dataset, [train_size, validation_size])\n",
    "train_loader = torch.utils.data.DataLoader(train_dataset, batch_size=1, shuffle=True, num_workers=4, drop_last=True)\n",
    "val_loader = torch.utils.data.DataLoader(val_dataset, batch_size=1, shuffle=False, num_workers=4, drop_last=True)\n",
    "\n",
    "test_dataset = MNIST('./data', train = False, download=False, transform=img_transform)\n",
    "test_loader = DataLoader(test_dataset, batch_size=100, shuffle=False, num_workers=4, drop_last=False)\n",
    "\n",
    "############### setting ##################\n",
    "device = 'cuda' if torch.cuda.is_available() else 'cpu'\n"
   ]
  },
  {
   "cell_type": "code",
   "execution_count": 45,
   "id": "e05d2c44",
   "metadata": {},
   "outputs": [],
   "source": [
    "################### test #####################\n",
    "from cProfile import label\n",
    "\n",
    "from matplotlib.pyplot import ylabel\n",
    "\n",
    "\n",
    "original_imgs = []\n",
    "decoded_imgs = []\n",
    "diff_imgs = []\n",
    "\n",
    "scores = []\n",
    "latent_dirs = []\n",
    "\n",
    "model_name = 'vae.pth'\n",
    "model_path = os.path.join(log_path, model_name)\n",
    "\n",
    "\n",
    "\n",
    "model = VAE(linear_bottleneck=linear_bottleneck, decode_type=decode_type)\n",
    "if torch.cuda.device_count() > 1:\n",
    "    print(\"Let's use\", torch.cuda.device_count(), \"GPUs!\")\n",
    "    model = nn.DataParallel(model)\n",
    "model.load_state_dict(torch.load(model_path))\n",
    "model.to(device)\n",
    "\n",
    "model.eval()\n",
    "with torch.no_grad():\n",
    "    for batch in test_loader:\n",
    "\n",
    "        if usedata==\"egg\":\n",
    "            original = batch\n",
    "        else:\n",
    "            original, label0 = batch\n",
    "\n",
    "        \n",
    "        original = original.to(device, non_blocking=True)\n",
    "        \n",
    "\n",
    "        decoded, mu , log_var , z = model(original)\n",
    "        diff = torch.abs(original - decoded)\n",
    "        score = torch.mean(diff.view(diff.shape[0], -1), dim=1)\n",
    "        \n",
    "        original_imgs.extend(original.detach().cpu().numpy())\n",
    "        decoded_imgs.extend(decoded.detach().cpu().numpy())\n",
    "        diff_imgs.extend(diff.detach().cpu().numpy())\n",
    "\n",
    "        latent_dirs.extend(z)\n",
    "\n",
    "original_imgs = np.array(original_imgs).transpose(0, 2, 3, 1)\n",
    "decoded_imgs = np.array(decoded_imgs).transpose(0, 2, 3, 1)"
   ]
  },
  {
   "cell_type": "code",
   "execution_count": 46,
   "id": "533b689a",
   "metadata": {},
   "outputs": [
    {
     "data": {
      "text/plain": [
       "tensor([8, 9, 0, 1, 2, 3, 4, 5, 6, 7, 8, 0, 1, 2, 3, 4, 7, 8, 9, 7, 8, 6, 4, 1,\n",
       "        9, 3, 8, 4, 4, 7, 0, 1, 9, 2, 8, 7, 8, 2, 6, 0, 6, 5, 3, 3, 3, 9, 1, 4,\n",
       "        0, 6, 1, 0, 0, 6, 2, 1, 1, 7, 7, 8, 4, 6, 0, 7, 0, 3, 6, 8, 7, 1, 5, 2,\n",
       "        4, 9, 4, 3, 6, 4, 1, 7, 2, 6, 5, 0, 1, 2, 3, 4, 5, 6, 7, 8, 9, 0, 1, 2,\n",
       "        3, 4, 5, 6])"
      ]
     },
     "execution_count": 46,
     "metadata": {},
     "output_type": "execute_result"
    }
   ],
   "source": [
    "label0"
   ]
  },
  {
   "cell_type": "code",
   "execution_count": 50,
   "id": "a83dbe1c",
   "metadata": {},
   "outputs": [
    {
     "data": {
      "image/png": "[encoded data removed]",
      "text/plain": [
       "<Figure size 720x576 with 2 Axes>"
      ]
     },
     "metadata": {
      "needs_background": "light"
     },
     "output_type": "display_data"
    }
   ],
   "source": [
    "# z = z.detach().cpu().numpy()\n",
    "# label0 = label0.detach().cpu().numpy()\n",
    "plt.figure(figsize=(10, 8)) \n",
    "plt.scatter(z[:, 0], z[:, 1], c=label0, cmap=\"rainbow\", alpha=0.6)\n",
    "plt.colorbar()\n",
    "plt.grid()"
   ]
  },
  {
   "cell_type": "code",
   "execution_count": 43,
   "id": "23521bc5",
   "metadata": {},
   "outputs": [
    {
     "ename": "AttributeError",
     "evalue": "'VAE' object has no attribute 'mnist_decode'",
     "output_type": "error",
     "traceback": [
      "\u001b[0;31m---------------------------------------------------------------------------\u001b[0m",
      "\u001b[0;31mAttributeError\u001b[0m                            Traceback (most recent call last)",
      "\u001b[0;32m<ipython-input-43-55a22ed456ff>\u001b[0m in \u001b[0;36m<module>\u001b[0;34m\u001b[0m\n\u001b[1;32m      1\u001b[0m \u001b[0;32mfrom\u001b[0m \u001b[0mmodel\u001b[0m\u001b[0;34m.\u001b[0m\u001b[0mvae\u001b[0m \u001b[0;32mimport\u001b[0m \u001b[0mVAE\u001b[0m\u001b[0;34m\u001b[0m\u001b[0;34m\u001b[0m\u001b[0m\n\u001b[1;32m      2\u001b[0m \u001b[0mi\u001b[0m\u001b[0;34m=\u001b[0m\u001b[0;36m1\u001b[0m\u001b[0;34m\u001b[0m\u001b[0;34m\u001b[0m\u001b[0m\n\u001b[0;32m----> 3\u001b[0;31m \u001b[0mdecoded\u001b[0m \u001b[0;34m=\u001b[0m \u001b[0mmodel\u001b[0m\u001b[0;34m.\u001b[0m\u001b[0mmnist_decode\u001b[0m\u001b[0;34m(\u001b[0m\u001b[0mlatent_dirs\u001b[0m\u001b[0;34m[\u001b[0m\u001b[0mi\u001b[0m\u001b[0;34m]\u001b[0m\u001b[0;34m)\u001b[0m\u001b[0;34m\u001b[0m\u001b[0;34m\u001b[0m\u001b[0m\n\u001b[0m\u001b[1;32m      4\u001b[0m \u001b[0mdecoded\u001b[0m \u001b[0;34m=\u001b[0m \u001b[0mdecoded\u001b[0m\u001b[0;34m.\u001b[0m\u001b[0mdetach\u001b[0m\u001b[0;34m(\u001b[0m\u001b[0;34m)\u001b[0m\u001b[0;34m.\u001b[0m\u001b[0mcpu\u001b[0m\u001b[0;34m(\u001b[0m\u001b[0;34m)\u001b[0m\u001b[0;34m.\u001b[0m\u001b[0mnumpy\u001b[0m\u001b[0;34m(\u001b[0m\u001b[0;34m)\u001b[0m\u001b[0;34m\u001b[0m\u001b[0;34m\u001b[0m\u001b[0m\n\u001b[1;32m      5\u001b[0m \u001b[0mdecoded_imgs\u001b[0m \u001b[0;34m=\u001b[0m \u001b[0mnp\u001b[0m\u001b[0;34m.\u001b[0m\u001b[0marray\u001b[0m\u001b[0;34m(\u001b[0m\u001b[0mdecoded\u001b[0m\u001b[0;34m)\u001b[0m\u001b[0;34m.\u001b[0m\u001b[0mtranspose\u001b[0m\u001b[0;34m(\u001b[0m\u001b[0;36m0\u001b[0m\u001b[0;34m,\u001b[0m \u001b[0;36m2\u001b[0m\u001b[0;34m,\u001b[0m \u001b[0;36m3\u001b[0m\u001b[0;34m,\u001b[0m \u001b[0;36m1\u001b[0m\u001b[0;34m)\u001b[0m\u001b[0;34m\u001b[0m\u001b[0;34m\u001b[0m\u001b[0m\n",
      "\u001b[0;32m~/.local/lib/python3.8/site-packages/torch/nn/modules/module.py\u001b[0m in \u001b[0;36m__getattr__\u001b[0;34m(self, name)\u001b[0m\n\u001b[1;32m    945\u001b[0m             \u001b[0;32mif\u001b[0m \u001b[0mname\u001b[0m \u001b[0;32min\u001b[0m \u001b[0mmodules\u001b[0m\u001b[0;34m:\u001b[0m\u001b[0;34m\u001b[0m\u001b[0;34m\u001b[0m\u001b[0m\n\u001b[1;32m    946\u001b[0m                 \u001b[0;32mreturn\u001b[0m \u001b[0mmodules\u001b[0m\u001b[0;34m[\u001b[0m\u001b[0mname\u001b[0m\u001b[0;34m]\u001b[0m\u001b[0;34m\u001b[0m\u001b[0;34m\u001b[0m\u001b[0m\n\u001b[0;32m--> 947\u001b[0;31m         raise AttributeError(\"'{}' object has no attribute '{}'\".format(\n\u001b[0m\u001b[1;32m    948\u001b[0m             type(self).__name__, name))\n\u001b[1;32m    949\u001b[0m \u001b[0;34m\u001b[0m\u001b[0m\n",
      "\u001b[0;31mAttributeError\u001b[0m: 'VAE' object has no attribute 'mnist_decode'"
     ]
    }
   ],
   "source": [
    "from model.vae import VAE\n",
    "i=1\n",
    "decoded = model.mnist_decode(latent_dirs[i])\n",
    "decoded = decoded.detach().cpu().numpy()\n",
    "decoded_imgs = np.array(decoded).transpose(0, 2, 3, 1)\n",
    "#img = np.hstack(decoded_imgs[i])\n",
    "\n",
    "img = np.clip((decoded_imgs[0]+1)/2, 0., 1.)\n",
    "plt.imshow(img)\n",
    "plt.gray()"
   ]
  },
  {
   "cell_type": "markdown",
   "id": "c3387b54",
   "metadata": {},
   "source": [
    "# egg reconst"
   ]
  },
  {
   "cell_type": "markdown",
   "id": "58508a6b-0e4f-40d8-9a97-721443f9a6ca",
   "metadata": {},
   "source": [
    "### Load model"
   ]
  },
  {
   "cell_type": "code",
   "execution_count": 6,
   "id": "f070f313-c278-49dc-9b53-79bd9971f30a",
   "metadata": {},
   "outputs": [
    {
     "name": "stdout",
     "output_type": "stream",
     "text": [
      "Random Seed:  0\n"
     ]
    },
    {
     "data": {
      "text/plain": [
       "<torch._C.Generator at 0x7fbf3143fa50>"
      ]
     },
     "execution_count": 6,
     "metadata": {},
     "output_type": "execute_result"
    }
   ],
   "source": [
    "num_epochs = 1000\n",
    "image_size = 256\n",
    "h_dim = 8*8*128\n",
    "z_dim = 30\n",
    "batch_size = 64\n",
    "learning_rate = 1e-3\n",
    "b = 5\n",
    "decode_type = 'upsamp'\n",
    "\n",
    "data_dir = \"/dataset/dataset/egg/nomal_egg\"\n",
    "#data_dir = '/home/taki/egg/data/egg/nomal_egg'\n",
    "\n",
    "#log_path = f'/home/taki/egg/log/vae/for_egg/{decode_type}_linear{linear_bottleneck}_b{b}_nomalegg_dim128_8_8'\n",
    "#log_path = \"/home/taki/egg/log/vae/for_egg/nomalegg_upsamp_linear1024_b1e-06_mse\"\n",
    "log_path = f'/home/taki/egg/log/vae/for_egg/1121pytorchVAE_lr{learning_rate}_inW{image_size}_b{b}_mse=sum_epoch{num_epochs}_h_dim{h_dim}_z_dim{z_dim}_batch{batch_size}_sheduler=cosin_dataaug=flip'\n",
    "    \n",
    "\n",
    "# 再現性のためにrandom seedを設定する\n",
    "manualSeed = 0\n",
    "print(\"Random Seed: \", manualSeed)\n",
    "random.seed(manualSeed)\n",
    "torch.manual_seed(manualSeed)\n"
   ]
  },
  {
   "cell_type": "code",
   "execution_count": 7,
   "id": "3e2c5c94",
   "metadata": {},
   "outputs": [],
   "source": [
    "# Transform を作成する\n",
    "image_size = 256\n",
    "transform =     torchvision.transforms.Compose([\n",
    "                transforms.ToTensor(),\n",
    "                transforms.Resize((image_size, image_size)),\n",
    "                transforms.Normalize((0.5, 0.5, 0.5), (0.5, 0.5, 0.5)),\n",
    "])\n",
    "\n",
    "# Dataset を作成する。\n",
    "test_dataset = ImageFolder.ImageFolder(data_dir, transform=transform)\n",
    "test_loader = torch.utils.data.DataLoader(test_dataset, batch_size=1, shuffle=False, num_workers=4, drop_last=False)\n",
    "\n",
    "\n",
    "############### setting ##################\n",
    "device = 'cuda' if torch.cuda.is_available() else 'cpu'"
   ]
  },
  {
   "cell_type": "code",
   "execution_count": 9,
   "id": "ee5175a1",
   "metadata": {},
   "outputs": [
    {
     "data": {
      "text/plain": [
       "tensor([[[[0.4479, 0.5843, 0.6167,  ..., 0.5503, 0.5229, 0.4756],\n",
       "          [0.5865, 0.6253, 0.6574,  ..., 0.5849, 0.5518, 0.5581],\n",
       "          [0.6143, 0.6314, 0.6380,  ..., 0.6053, 0.5864, 0.5868],\n",
       "          ...,\n",
       "          [0.4980, 0.5036, 0.5265,  ..., 0.5004, 0.5001, 0.5020],\n",
       "          [0.4701, 0.4742, 0.5105,  ..., 0.5006, 0.4947, 0.4982],\n",
       "          [0.4299, 0.4473, 0.4888,  ..., 0.4958, 0.4977, 0.4267]],\n",
       "\n",
       "         [[0.4410, 0.5742, 0.6112,  ..., 0.5489, 0.5291, 0.4828],\n",
       "          [0.5734, 0.6013, 0.6306,  ..., 0.5755, 0.5459, 0.5013],\n",
       "          [0.5982, 0.6311, 0.6222,  ..., 0.5906, 0.5779, 0.5481],\n",
       "          ...,\n",
       "          [0.4635, 0.4749, 0.4991,  ..., 0.4955, 0.5106, 0.4917],\n",
       "          [0.4329, 0.4479, 0.4908,  ..., 0.4980, 0.5103, 0.4774],\n",
       "          [0.3833, 0.4379, 0.4805,  ..., 0.4904, 0.4880, 0.4024]],\n",
       "\n",
       "         [[0.5677, 0.6342, 0.6782,  ..., 0.6083, 0.5715, 0.5296],\n",
       "          [0.6199, 0.6560, 0.6741,  ..., 0.6149, 0.5777, 0.5489],\n",
       "          [0.6572, 0.6869, 0.6706,  ..., 0.6280, 0.6186, 0.5972],\n",
       "          ...,\n",
       "          [0.4994, 0.5182, 0.5478,  ..., 0.5681, 0.5784, 0.5563],\n",
       "          [0.4783, 0.5055, 0.5535,  ..., 0.5659, 0.5640, 0.5346],\n",
       "          [0.4355, 0.5149, 0.5472,  ..., 0.5406, 0.5204, 0.4269]]],\n",
       "\n",
       "\n",
       "        [[[0.3574, 0.4770, 0.5025,  ..., 0.5520, 0.5265, 0.4778],\n",
       "          [0.4751, 0.5241, 0.5518,  ..., 0.5843, 0.5518, 0.5603],\n",
       "          [0.4999, 0.5350, 0.5439,  ..., 0.6043, 0.5862, 0.5899],\n",
       "          ...,\n",
       "          [0.5147, 0.5170, 0.5396,  ..., 0.5262, 0.5295, 0.5291],\n",
       "          [0.4872, 0.4893, 0.5267,  ..., 0.5291, 0.5259, 0.5260],\n",
       "          [0.4448, 0.4609, 0.5046,  ..., 0.5251, 0.5330, 0.4526]],\n",
       "\n",
       "         [[0.3537, 0.4599, 0.4900,  ..., 0.5498, 0.5306, 0.4858],\n",
       "          [0.4675, 0.4896, 0.5141,  ..., 0.5719, 0.5471, 0.5062],\n",
       "          [0.4899, 0.5175, 0.5133,  ..., 0.5886, 0.5826, 0.5532],\n",
       "          ...,\n",
       "          [0.4789, 0.4896, 0.5133,  ..., 0.5194, 0.5418, 0.5252],\n",
       "          [0.4483, 0.4645, 0.5087,  ..., 0.5227, 0.5416, 0.5105],\n",
       "          [0.3985, 0.4564, 0.5012,  ..., 0.5119, 0.5172, 0.4312]],\n",
       "\n",
       "         [[0.4594, 0.5171, 0.5539,  ..., 0.6088, 0.5745, 0.5333],\n",
       "          [0.4992, 0.5324, 0.5487,  ..., 0.6115, 0.5815, 0.5552],\n",
       "          [0.5315, 0.5618, 0.5523,  ..., 0.6273, 0.6236, 0.6026],\n",
       "          ...,\n",
       "          [0.5168, 0.5342, 0.5642,  ..., 0.5937, 0.6153, 0.5920],\n",
       "          [0.4969, 0.5247, 0.5748,  ..., 0.5856, 0.5968, 0.5679],\n",
       "          [0.4554, 0.5381, 0.5722,  ..., 0.5532, 0.5455, 0.4538]]],\n",
       "\n",
       "\n",
       "        [[[0.4154, 0.5476, 0.5787,  ..., 0.5443, 0.5185, 0.4726],\n",
       "          [0.5477, 0.5908, 0.6229,  ..., 0.5800, 0.5511, 0.5549],\n",
       "          [0.5738, 0.5978, 0.6069,  ..., 0.6011, 0.5857, 0.5828],\n",
       "          ...,\n",
       "          [0.6055, 0.5927, 0.6146,  ..., 0.5729, 0.5783, 0.5789],\n",
       "          [0.5742, 0.5629, 0.6041,  ..., 0.5803, 0.5778, 0.5775],\n",
       "          [0.5208, 0.5313, 0.5836,  ..., 0.5792, 0.5891, 0.5007]],\n",
       "\n",
       "         [[0.4104, 0.5346, 0.5699,  ..., 0.5422, 0.5244, 0.4792],\n",
       "          [0.5371, 0.5626, 0.5916,  ..., 0.5714, 0.5426, 0.4969],\n",
       "          [0.5604, 0.5907, 0.5850,  ..., 0.5864, 0.5729, 0.5429],\n",
       "          ...,\n",
       "          [0.5650, 0.5772, 0.6006,  ..., 0.5755, 0.6024, 0.5882],\n",
       "          [0.5293, 0.5498, 0.5999,  ..., 0.5833, 0.6049, 0.5744],\n",
       "          [0.4768, 0.5505, 0.6018,  ..., 0.5751, 0.5825, 0.4924]],\n",
       "\n",
       "         [[0.5300, 0.5939, 0.6371,  ..., 0.6016, 0.5671, 0.5256],\n",
       "          [0.5780, 0.6137, 0.6337,  ..., 0.6103, 0.5735, 0.5439],\n",
       "          [0.6129, 0.6433, 0.6317,  ..., 0.6236, 0.6138, 0.5918],\n",
       "          ...,\n",
       "          [0.6143, 0.6298, 0.6596,  ..., 0.6571, 0.6817, 0.6581],\n",
       "          [0.5923, 0.6214, 0.6752,  ..., 0.6502, 0.6646, 0.6349],\n",
       "          [0.5538, 0.6471, 0.6821,  ..., 0.6192, 0.6152, 0.5175]]],\n",
       "\n",
       "\n",
       "        ...,\n",
       "\n",
       "\n",
       "        [[[0.3823, 0.5067, 0.5340,  ..., 0.5011, 0.4790, 0.4355],\n",
       "          [0.5058, 0.5515, 0.5806,  ..., 0.5410, 0.5145, 0.5151],\n",
       "          [0.5299, 0.5595, 0.5684,  ..., 0.5605, 0.5456, 0.5406],\n",
       "          ...,\n",
       "          [0.5756, 0.5718, 0.5923,  ..., 0.5739, 0.5813, 0.5820],\n",
       "          [0.5474, 0.5465, 0.5853,  ..., 0.5821, 0.5816, 0.5813],\n",
       "          [0.4990, 0.5131, 0.5620,  ..., 0.5803, 0.5935, 0.5038]],\n",
       "\n",
       "         [[0.3771, 0.4915, 0.5233,  ..., 0.4943, 0.4768, 0.4358],\n",
       "          [0.4968, 0.5207, 0.5462,  ..., 0.5184, 0.4934, 0.4503],\n",
       "          [0.5185, 0.5469, 0.5414,  ..., 0.5361, 0.5254, 0.4932],\n",
       "          ...,\n",
       "          [0.5391, 0.5480, 0.5688,  ..., 0.5755, 0.6055, 0.5923],\n",
       "          [0.5068, 0.5254, 0.5716,  ..., 0.5843, 0.6094, 0.5799],\n",
       "          [0.4541, 0.5201, 0.5697,  ..., 0.5768, 0.5878, 0.4989]],\n",
       "\n",
       "         [[0.4895, 0.5502, 0.5889,  ..., 0.5509, 0.5203, 0.4804],\n",
       "          [0.5339, 0.5681, 0.5850,  ..., 0.5501, 0.5200, 0.4941],\n",
       "          [0.5655, 0.5955, 0.5850,  ..., 0.5695, 0.5622, 0.5401],\n",
       "          ...,\n",
       "          [0.5788, 0.5937, 0.6232,  ..., 0.6577, 0.6857, 0.6626],\n",
       "          [0.5602, 0.5898, 0.6436,  ..., 0.6508, 0.6699, 0.6411],\n",
       "          [0.5193, 0.6104, 0.6480,  ..., 0.6215, 0.6215, 0.5252]]],\n",
       "\n",
       "\n",
       "        [[[0.4315, 0.5680, 0.5993,  ..., 0.5727, 0.5464, 0.4979],\n",
       "          [0.5685, 0.6133, 0.6443,  ..., 0.6072, 0.5785, 0.5826],\n",
       "          [0.5958, 0.6199, 0.6264,  ..., 0.6263, 0.6117, 0.6103],\n",
       "          ...,\n",
       "          [0.5991, 0.5855, 0.6085,  ..., 0.5834, 0.5895, 0.5873],\n",
       "          [0.5657, 0.5512, 0.5928,  ..., 0.5898, 0.5874, 0.5849],\n",
       "          [0.5099, 0.5192, 0.5717,  ..., 0.5862, 0.5976, 0.5071]],\n",
       "\n",
       "         [[0.4288, 0.5570, 0.5930,  ..., 0.5728, 0.5542, 0.5077],\n",
       "          [0.5596, 0.5865, 0.6149,  ..., 0.5996, 0.5718, 0.5257],\n",
       "          [0.5840, 0.6153, 0.6068,  ..., 0.6138, 0.6026, 0.5719],\n",
       "          ...,\n",
       "          [0.5563, 0.5697, 0.5956,  ..., 0.5811, 0.6103, 0.5972],\n",
       "          [0.5182, 0.5390, 0.5908,  ..., 0.5891, 0.6129, 0.5820],\n",
       "          [0.4656, 0.5410, 0.5918,  ..., 0.5798, 0.5893, 0.4992]],\n",
       "\n",
       "         [[0.5505, 0.6160, 0.6591,  ..., 0.6312, 0.5965, 0.5538],\n",
       "          [0.5995, 0.6366, 0.6544,  ..., 0.6370, 0.6013, 0.5722],\n",
       "          [0.6359, 0.6666, 0.6505,  ..., 0.6520, 0.6426, 0.6202],\n",
       "          ...,\n",
       "          [0.6056, 0.6222, 0.6527,  ..., 0.6606, 0.6900, 0.6666],\n",
       "          [0.5821, 0.6111, 0.6642,  ..., 0.6532, 0.6721, 0.6422],\n",
       "          [0.5465, 0.6384, 0.6708,  ..., 0.6212, 0.6204, 0.5238]]],\n",
       "\n",
       "\n",
       "        [[[0.4586, 0.5954, 0.6272,  ..., 0.6280, 0.6019, 0.5509],\n",
       "          [0.5986, 0.6357, 0.6661,  ..., 0.6643, 0.6355, 0.6390],\n",
       "          [0.6284, 0.6436, 0.6473,  ..., 0.6811, 0.6669, 0.6656],\n",
       "          ...,\n",
       "          [0.6164, 0.6042, 0.6268,  ..., 0.5868, 0.5924, 0.5906],\n",
       "          [0.5849, 0.5727, 0.6134,  ..., 0.5914, 0.5890, 0.5876],\n",
       "          [0.5309, 0.5416, 0.5930,  ..., 0.5863, 0.5981, 0.5081]],\n",
       "\n",
       "         [[0.4506, 0.5865, 0.6239,  ..., 0.6323, 0.6150, 0.5669],\n",
       "          [0.5853, 0.6152, 0.6443,  ..., 0.6596, 0.6331, 0.5847],\n",
       "          [0.6121, 0.6470, 0.6371,  ..., 0.6709, 0.6614, 0.6308],\n",
       "          ...,\n",
       "          [0.5765, 0.5896, 0.6148,  ..., 0.5837, 0.6124, 0.5984],\n",
       "          [0.5405, 0.5611, 0.6118,  ..., 0.5903, 0.6143, 0.5831],\n",
       "          [0.4872, 0.5622, 0.6120,  ..., 0.5811, 0.5907, 0.5003]],\n",
       "\n",
       "         [[0.5796, 0.6469, 0.6898,  ..., 0.6889, 0.6557, 0.6118],\n",
       "          [0.6341, 0.6711, 0.6867,  ..., 0.6946, 0.6610, 0.6297],\n",
       "          [0.6733, 0.7033, 0.6826,  ..., 0.7043, 0.6992, 0.6777],\n",
       "          ...,\n",
       "          [0.6250, 0.6425, 0.6737,  ..., 0.6615, 0.6900, 0.6667],\n",
       "          [0.6031, 0.6328, 0.6853,  ..., 0.6537, 0.6722, 0.6428],\n",
       "          [0.5642, 0.6571, 0.6893,  ..., 0.6231, 0.6216, 0.5246]]]],\n",
       "       device='cuda:0', grad_fn=<ViewBackward>)"
      ]
     },
     "execution_count": 9,
     "metadata": {},
     "output_type": "execute_result"
    }
   ],
   "source": [
    "########   test  #############\n",
    "model_name = 'vae.pth'\n",
    "model_path = os.path.join(log_path, model_name)\n",
    "\n",
    "model = pytorch_VAE(image_channels=3, h_dim=h_dim, z_dim=z_dim)\n",
    "if torch.cuda.device_count() > 1:\n",
    "    print(\"Let's use\", torch.cuda.device_count(), \"GPUs!\")\n",
    "    model = nn.DataParallel(model)\n",
    "model.load_state_dict(torch.load(model_path))\n",
    "model.to(device)\n",
    "\n",
    "model.eval()\n",
    "z = torch.randn(30, z_dim).to(device)\n",
    "out = model.decode(z).view(-1, 3, 256, 256)\n",
    "out\n",
    "\n",
    "# model.eval()\n",
    "# with torch.no_grad():\n",
    "#     for i, x in enumerate(test_loader):\n",
    "\n",
    "#         # Save the reconstructed images\n",
    "#     #     x = x.to(device)\n",
    "#     #     out, _, _, _ = model(x)\n",
    "\n",
    "#     # x_concat = torch.cat([x.view(-1, 3, 256, 256), out.view(-1, 3, 256, 256)], dim=3)\n",
    "#     #save_image(x_concat, os.path.join(test_path, 'test_reconst.png'))\n",
    "\n",
    "#     # Save the sampled images\n",
    "#     z = torch.randn(30, z_dim).to(device)\n",
    "#     out = model.decode(z).view(-1, 3, 256, 256)\n",
    "#     #save_image(out, os.path.join(test_path, 'test_sampled.png'))\n",
    "\n"
   ]
  },
  {
   "cell_type": "code",
   "execution_count": 11,
   "id": "3d8dd6e8",
   "metadata": {},
   "outputs": [
    {
     "data": {
      "text/plain": [
       "torch.Size([3, 256, 256])"
      ]
     },
     "execution_count": 11,
     "metadata": {},
     "output_type": "execute_result"
    }
   ],
   "source": [
    "out[0].shape"
   ]
  },
  {
   "cell_type": "code",
   "execution_count": 16,
   "id": "40942e29",
   "metadata": {},
   "outputs": [
    {
     "name": "stderr",
     "output_type": "stream",
     "text": [
      "Clipping input data to the valid range for imshow with RGB data ([0..1] for floats or [0..255] for integers).\n"
     ]
    },
    {
     "data": {
      "text/plain": [
       "<matplotlib.image.AxesImage at 0x7fbdccd7c280>"
      ]
     },
     "execution_count": 16,
     "metadata": {},
     "output_type": "execute_result"
    },
    {
     "data": {
      "image/png": "[encoded data removed]",
      "text/plain": [
       "<Figure size 432x288 with 1 Axes>"
      ]
     },
     "metadata": {
      "needs_background": "light"
     },
     "output_type": "display_data"
    }
   ],
   "source": [
    "plt.imshow(out[2].to('cpu').detach().numpy().transpose(1, 2, 0)) "
   ]
  },
  {
   "cell_type": "code",
   "execution_count": 16,
   "id": "5cc75f40",
   "metadata": {},
   "outputs": [
    {
     "data": {
      "text/plain": [
       "tensor([-0.1826,  0.7137, -0.5442,  ...,  0.3065,  0.4244, -0.4030],\n",
       "       device='cuda:0')"
      ]
     },
     "execution_count": 16,
     "metadata": {},
     "output_type": "execute_result"
    }
   ],
   "source": [
    "latent_dirs[100]"
   ]
  },
  {
   "cell_type": "code",
   "execution_count": 61,
   "id": "83e62261",
   "metadata": {},
   "outputs": [
    {
     "data": {
      "image/png": "[encoded data removed]",
      "text/plain": [
       "<Figure size 432x288 with 1 Axes>"
      ]
     },
     "metadata": {
      "needs_background": "light"
     },
     "output_type": "display_data"
    }
   ],
   "source": [
    "i=103\n",
    "decoded = model.egg_decode(latent_dirs[i])\n",
    "decoded = decoded.detach().cpu().numpy()\n",
    "decoded_imgs = np.array(decoded).transpose(0, 2, 3, 1)\n",
    "#img = np.hstack(decoded_imgs[i])\n",
    "\n",
    "img = np.clip((decoded_imgs[0]+1)/2, 0., 1.)\n",
    "plt.imshow(img)\n",
    "plt.gray()"
   ]
  },
  {
   "cell_type": "code",
   "execution_count": 43,
   "id": "54bd4c25",
   "metadata": {},
   "outputs": [
    {
     "data": {
      "text/plain": [
       "(1, 256, 256, 3)"
      ]
     },
     "execution_count": 43,
     "metadata": {},
     "output_type": "execute_result"
    }
   ],
   "source": [
    "decoded_imgs.shape"
   ]
  },
  {
   "cell_type": "code",
   "execution_count": 17,
   "metadata": {},
   "outputs": [],
   "source": [
    "#主成分分析の実行\n",
    "pca = PCA()\n",
    "pca.fit(latent_dirs)\n",
    "# データを主成分空間に写像\n",
    "feature = pca.transform(latent_dirs)"
   ]
  },
  {
   "cell_type": "code",
   "execution_count": 32,
   "id": "09eda67f",
   "metadata": {},
   "outputs": [
    {
     "data": {
      "text/plain": [
       "276"
      ]
     },
     "execution_count": 32,
     "metadata": {},
     "output_type": "execute_result"
    }
   ],
   "source": [
    "len(feature)"
   ]
  },
  {
   "cell_type": "code",
   "execution_count": 21,
   "id": "1b2baf16",
   "metadata": {},
   "outputs": [
    {
     "data": {
      "application/vnd.jupyter.widget-view+json": {
       "model_id": "c406af1f63cb4221b38cf2435272bf35",
       "version_major": 2,
       "version_minor": 0
      },
      "text/plain": [
       "VBox(children=(VBox(children=(FloatSlider(value=0.0, continuous_update=False, description='d1: ', max=10.0, mi…"
      ]
     },
     "metadata": {},
     "output_type": "display_data"
    }
   ],
   "source": [
    "seed = np.random.randint(0,100000)\n",
    "style = {'description_width': 'initial'}\n",
    "\n",
    "seed = widgets.IntSlider(min=0, max=100000, step=1, value=seed, description='Seed: ', continuous_update=False)\n",
    "truncation = widgets.FloatSlider(min=0, max=2, step=0.1, value=0.7, description='Truncation: ', continuous_update=False)\n",
    "dim0 = widgets.FloatSlider(min=-10, max=10, step=0.1, value=0, description='d1: ', continuous_update=False, style=style)\n",
    "dim1 = widgets.FloatSlider(min=-10, max=10, step=0.1, value=0, description='d2: ', continuous_update=False, style=style)\n",
    "dim2 = widgets.FloatSlider(min=-10, max=10, step=0.1, value=0, description='d3: ', continuous_update=False, style=style)\n",
    "dim3 = widgets.FloatSlider(min=-10, max=10, step=0.1, value=0, description='d4: ', continuous_update=False, style=style)\n",
    "dim4 = widgets.FloatSlider(min=-10, max=10, step=0.1, value=0, description='d5: ', continuous_update=False, style=style)\n",
    "dim5 = widgets.FloatSlider(min=-10, max=10, step=0.1, value=0, description='d6: ', continuous_update=False, style=style)\n",
    "scale = widgets.FloatSlider(min=0, max=10, step=0.05, value=1, description='Scale: ', continuous_update=False)\n",
    "start_layer = widgets.IntSlider(min=0, max=10, step=1, value=0, description='start layer: ', continuous_update=False)\n",
    "end_layer = widgets.IntSlider(min=0, max=10, step=1, value=18, description='end layer: ', continuous_update=False)\n",
    "\n",
    "# Make sure layer range is valid\n",
    "def update_range_start(*args):\n",
    "  end_layer.min = start_layer.value\n",
    "def update_range_end(*args):\n",
    "  start_layer.max = end_layer.value\n",
    "start_layer.observe(update_range_start, 'value')\n",
    "end_layer.observe(update_range_end, 'value')\n",
    "\n",
    "text = widgets.Text(description=\"Name component here\", style=style, width=200)\n",
    "\n",
    "bot_box = widgets.VBox([dim0, dim1, dim2, dim3, dim4, dim5, scale, start_layer, end_layer, seed])\n",
    "ui = widgets.VBox([bot_box])\n",
    "display(ui)\n",
    "# out = widgets.interactive_output(display_sample_pytorch, {'seed': seed, 'truncation': truncation, 'dir0': fixed(comp_dir[0]), 'dir1': fixed(comp_dir[1]), 'dir2': fixed(comp_dir[2]), 'dir3': fixed(comp_dir[3]), 'dir4': fixed(comp_dir[4]), 'dir5': fixed(comp_dir[5]), 'dim0': dim0, 'dim1': dim1, 'dim2': dim2, 'dim3': dim3, 'dim4': dim4, 'dim5': dim5, 'scale': scale, 'start': start_layer, 'end': end_layer})\n",
    "\n",
    "# display(out, ui)"
   ]
  },
  {
   "cell_type": "code",
   "execution_count": 24,
   "id": "478a7d82",
   "metadata": {},
   "outputs": [
    {
     "data": {
      "text/plain": [
       "array([-0.0077659 , -0.0088842 , -0.08178303, -0.01758367,  0.07025756,\n",
       "        0.07932077, -0.09217875, -0.05693468,  0.04787686,  0.08735058,\n",
       "        0.0347066 , -0.00110053, -0.05335074, -0.00053943,  0.0509058 ,\n",
       "        0.01058587, -0.0495655 , -0.02587789,  0.0117165 , -0.07151595,\n",
       "        0.07438114,  0.04057818, -0.05841234,  0.0355718 , -0.02337929,\n",
       "       -0.0802866 , -0.15745348,  0.06160261,  0.02994593,  0.03069627,\n",
       "       -0.00026781,  0.06342989,  0.10760203, -0.01232996, -0.0364892 ,\n",
       "        0.04334432,  0.01422807,  0.16691066, -0.01496982, -0.02173303,\n",
       "       -0.07776674,  0.08322984,  0.04854014, -0.05197964, -0.05554731,\n",
       "        0.02592685, -0.01282914,  0.01018954, -0.10742157, -0.03266557,\n",
       "       -0.02656297,  0.07826316,  0.06352157,  0.0112694 ,  0.06935713,\n",
       "       -0.15578095, -0.06539898,  0.00524764,  0.01997395,  0.00402478,\n",
       "        0.099452  ,  0.01416079, -0.06153771, -0.00584498,  0.09345514,\n",
       "       -0.15134679, -0.00989762,  0.1529208 ,  0.00658788, -0.03570171,\n",
       "       -0.15460408,  0.02229226, -0.03639054,  0.01737333, -0.01063964,\n",
       "       -0.07928661, -0.01452026, -0.06300175,  0.10426991, -0.06617668,\n",
       "       -0.05346562, -0.11672261,  0.09276684,  0.03286807,  0.05923381,\n",
       "        0.01582689,  0.13570542, -0.05646439,  0.04705381,  0.06359426,\n",
       "       -0.03920757, -0.0727707 ,  0.0174904 , -0.02025178,  0.05098415,\n",
       "       -0.10626918,  0.01869311, -0.07663279, -0.11636652, -0.04247889,\n",
       "        0.02002518, -0.10022927, -0.06192202, -0.09018656, -0.13265345,\n",
       "        0.05683772, -0.07175751,  0.0604762 ,  0.02532643,  0.04932049,\n",
       "       -0.00421439, -0.00190513, -0.04292075, -0.01359427, -0.06699781,\n",
       "       -0.02786188, -0.05510647,  0.06447372, -0.01563882, -0.07013213,\n",
       "        0.010505  ,  0.02286979,  0.06098134, -0.08005965,  0.10948998,\n",
       "       -0.01669262,  0.02577074,  0.07482609,  0.02055235,  0.05811223,\n",
       "        0.08103238,  0.04644439,  0.03233373,  0.04515441, -0.09339092,\n",
       "       -0.03475716, -0.00272132,  0.04871841, -0.02785992,  0.0876843 ,\n",
       "        0.04332542,  0.06617261,  0.07475031, -0.06260879, -0.02344604,\n",
       "        0.03160603,  0.01954602, -0.04121961, -0.04949337,  0.02979382,\n",
       "       -0.05655897,  0.13384333,  0.017878  ,  0.00460992,  0.00602198,\n",
       "        0.06861448,  0.08715172,  0.02834326, -0.05186077, -0.03585721,\n",
       "       -0.05998505,  0.07061173,  0.07226238, -0.02174808, -0.06269247,\n",
       "       -0.00133459,  0.03873298, -0.06510073, -0.03784336, -0.05888591,\n",
       "        0.04968878, -0.07994273, -0.03493483,  0.01620625, -0.07206239,\n",
       "       -0.00612125,  0.17532504, -0.04211213,  0.02086742, -0.03923418,\n",
       "        0.03102846,  0.07146833, -0.02758334, -0.0136684 ,  0.12705358,\n",
       "        0.06608462,  0.04824227, -0.07921269,  0.15046937, -0.0174246 ,\n",
       "       -0.01814986, -0.05544329,  0.04246641,  0.03605802,  0.00282868,\n",
       "       -0.04003671, -0.03276169,  0.0201652 ,  0.07879284, -0.01411366,\n",
       "       -0.00648608, -0.06233331, -0.02358967, -0.05317974,  0.03305333,\n",
       "       -0.04682148, -0.18806114, -0.00359284,  0.01505972, -0.0503006 ,\n",
       "       -0.02410519, -0.01140356, -0.08126276, -0.04101233, -0.09730823,\n",
       "        0.08120438,  0.01355335, -0.04201438, -0.06183968,  0.02436929,\n",
       "       -0.06822683,  0.00606182,  0.02880618,  0.00666958,  0.01650755,\n",
       "        0.02591459, -0.09654615,  0.0906207 , -0.0246013 ,  0.03167786,\n",
       "        0.09528729, -0.01091574, -0.03715463,  0.08087036,  0.04908414,\n",
       "        0.07446351, -0.02188858, -0.11995918,  0.09149785, -0.04351811,\n",
       "        0.01514369,  0.12031419,  0.09598746, -0.02279999, -0.00642899,\n",
       "        0.02285724,  0.00724141, -0.01669433,  0.01371336, -0.00251432,\n",
       "       -0.00854137,  0.02674189, -0.06811264, -0.03248651, -0.013746  ,\n",
       "       -0.03741955])"
      ]
     },
     "execution_count": 24,
     "metadata": {},
     "output_type": "execute_result"
    }
   ],
   "source": [
    "pca.components_[0]"
   ]
  },
  {
   "cell_type": "code",
   "execution_count": 22,
   "id": "1728d2f0",
   "metadata": {},
   "outputs": [
    {
     "data": {
      "image/png": "[encoded data removed]",
      "text/plain": [
       "<Figure size 432x288 with 1 Axes>"
      ]
     },
     "metadata": {
      "needs_background": "light"
     },
     "output_type": "display_data"
    }
   ],
   "source": [
    "import matplotlib.ticker as ticker\n",
    "plt.gca().get_xaxis().set_major_locator(ticker.MaxNLocator(integer=True))\n",
    "plt.plot([0] + list( np.cumsum(pca.explained_variance_ratio_)), \"-o\")\n",
    "plt.xlabel(\"Number of principal components\")\n",
    "plt.ylabel(\"Cumulative contribution rate\")\n",
    "plt.grid()\n",
    "plt.show()"
   ]
  },
  {
   "cell_type": "markdown",
   "id": "16c109bf-d859-4a40-823e-0032580633a4",
   "metadata": {},
   "source": [
    "## Multiple components\n",
    "### Load components"
   ]
  },
  {
   "cell_type": "code",
   "execution_count": 4,
   "id": "a9993773-fd01-41bd-b8a2-a90ef7d90d96",
   "metadata": {},
   "outputs": [
    {
     "name": "stdout",
     "output_type": "stream",
     "text": [
      "Loaded Component No. 1~6\n"
     ]
    }
   ],
   "source": [
    "comps = np.load(path_to_components)\n",
    "lst = comps.files\n",
    "latent_dirs = []\n",
    "latent_stdevs = []\n",
    "comp_dir = []\n",
    "comp_dir_stdev = []\n",
    "\n",
    "load_activations = True\n",
    "\n",
    "for item in lst:\n",
    "    if load_activations:\n",
    "      if item == 'act_comp':\n",
    "        for i in range(comps[item].shape[0]):\n",
    "          latent_dirs.append(comps[item][i])\n",
    "      if item == 'act_stdev':\n",
    "        for i in range(comps[item].shape[0]):\n",
    "          latent_stdevs.append(comps[item][i])\n",
    "    else:\n",
    "      if item == 'lat_comp':\n",
    "        for i in range(comps[item].shape[0]):\n",
    "          latent_dirs.append(comps[item][i])\n",
    "      if item == 'lat_stdev':\n",
    "        for i in range(comps[item].shape[0]):\n",
    "          latent_stdevs.append(comps[item][i])\n",
    "\n",
    "num = 6\n",
    "\n",
    "for i in range(num):\n",
    "    comp_dir.append(latent_dirs[i])\n",
    "    comp_dir_stdev.append(latent_stdevs[i])\n",
    "    \n",
    "print(f'Loaded Component No. 1~{num}')"
   ]
  },
  {
   "cell_type": "markdown",
   "id": "bb6a09c9-91ab-45c7-aecd-9c22da007d3e",
   "metadata": {},
   "source": [
    "### Run UI"
   ]
  },
  {
   "cell_type": "code",
   "execution_count": 5,
   "id": "6ccc5eb8-2bd2-4a78-819f-a921c87849b5",
   "metadata": {
    "tags": []
   },
   "outputs": [
    {
     "data": {
      "application/vnd.jupyter.widget-view+json": {
       "model_id": "51c655c858f1441b8565a8d6526900fb",
       "version_major": 2,
       "version_minor": 0
      },
      "text/plain": [
       "Output()"
      ]
     },
     "metadata": {},
     "output_type": "display_data"
    },
    {
     "data": {
      "application/vnd.jupyter.widget-view+json": {
       "model_id": "6ef1148e78ea47ca8127c021a8a5488a",
       "version_major": 2,
       "version_minor": 0
      },
      "text/plain": [
       "VBox(children=(VBox(children=(FloatSlider(value=0.0, continuous_update=False, description='d1: ', max=10.0, mi…"
      ]
     },
     "metadata": {},
     "output_type": "display_data"
    }
   ],
   "source": [
    "def display_sample_pytorch(seed, truncation, dir0, dir1, dir2, dir3, dir4, dir5, dim0, dim1, dim2, dim3, dim4, dim5, scale, start, end, disp=True, save=None, noise_spec=None):\n",
    "    # blockPrint()\n",
    "    # with io.capture_output() as captured:\n",
    "    param = []\n",
    "    inv = []\n",
    "    \n",
    "    w = model.sample_latent(1, seed=seed).cpu().numpy()\n",
    "\n",
    "    model.truncation = truncation\n",
    "    w = [w]*model.get_max_latents() # one per layer\n",
    "    for l in range(start, end):\n",
    "        w[l] =  dir0 * dim0 * scale + dir1 * dim1 * scale + dir2 * dim2 * scale + dir3 * dim3 * scale + dir4 * dim4 * scale + dir5 * dim5 * scale\n",
    "        param.append(transformer.transform(w[l]))\n",
    "    \n",
    "#     print(param[0][0][:num])\n",
    "    \n",
    "    #save image and display\n",
    "    out = model.sample_np(w)\n",
    "    final_im = Image.fromarray((out * 255).astype(np.uint8)).resize((256,256),Image.LANCZOS)\n",
    "\n",
    "    if disp:\n",
    "      display(final_im)\n",
    "\n",
    "    if save is not None:\n",
    "      if disp == False:\n",
    "        print(save)\n",
    "      final_im.save(f'out/{seed}_{save:05}.png')\n",
    "\n",
    "\n",
    "seed = np.random.randint(0,100000)\n",
    "style = {'description_width': 'initial'}\n",
    "\n",
    "seed = widgets.IntSlider(min=0, max=100000, step=1, value=seed, description='Seed: ', continuous_update=False)\n",
    "truncation = widgets.FloatSlider(min=0, max=2, step=0.1, value=0.7, description='Truncation: ', continuous_update=False)\n",
    "dim0 = widgets.FloatSlider(min=-10, max=10, step=0.1, value=0, description='d1: ', continuous_update=False, style=style)\n",
    "dim1 = widgets.FloatSlider(min=-10, max=10, step=0.1, value=0, description='d2: ', continuous_update=False, style=style)\n",
    "dim2 = widgets.FloatSlider(min=-10, max=10, step=0.1, value=0, description='d3: ', continuous_update=False, style=style)\n",
    "dim3 = widgets.FloatSlider(min=-10, max=10, step=0.1, value=0, description='d4: ', continuous_update=False, style=style)\n",
    "dim4 = widgets.FloatSlider(min=-10, max=10, step=0.1, value=0, description='d5: ', continuous_update=False, style=style)\n",
    "dim5 = widgets.FloatSlider(min=-10, max=10, step=0.1, value=0, description='d6: ', continuous_update=False, style=style)\n",
    "scale = widgets.FloatSlider(min=0, max=10, step=0.05, value=1, description='Scale: ', continuous_update=False)\n",
    "start_layer = widgets.IntSlider(min=0, max=model.get_max_latents(), step=1, value=0, description='start layer: ', continuous_update=False)\n",
    "end_layer = widgets.IntSlider(min=0, max=model.get_max_latents(), step=1, value=18, description='end layer: ', continuous_update=False)\n",
    "\n",
    "# Make sure layer range is valid\n",
    "def update_range_start(*args):\n",
    "  end_layer.min = start_layer.value\n",
    "def update_range_end(*args):\n",
    "  start_layer.max = end_layer.value\n",
    "start_layer.observe(update_range_start, 'value')\n",
    "end_layer.observe(update_range_end, 'value')\n",
    "\n",
    "text = widgets.Text(description=\"Name component here\", style=style, width=200)\n",
    "\n",
    "bot_box = widgets.VBox([dim0, dim1, dim2, dim3, dim4, dim5, scale, start_layer, end_layer, seed])\n",
    "ui = widgets.VBox([bot_box])\n",
    "\n",
    "out = widgets.interactive_output(display_sample_pytorch, {'seed': seed, 'truncation': truncation, 'dir0': fixed(comp_dir[0]), 'dir1': fixed(comp_dir[1]), 'dir2': fixed(comp_dir[2]), 'dir3': fixed(comp_dir[3]), 'dir4': fixed(comp_dir[4]), 'dir5': fixed(comp_dir[5]), 'dim0': dim0, 'dim1': dim1, 'dim2': dim2, 'dim3': dim3, 'dim4': dim4, 'dim5': dim5, 'scale': scale, 'start': start_layer, 'end': end_layer})\n",
    "\n",
    "display(out, ui)"
   ]
  },
  {
   "cell_type": "code",
   "execution_count": 53,
   "id": "1a2791f4-b04d-4861-a2b1-623b1fcccc36",
   "metadata": {},
   "outputs": [
    {
     "data": {
      "application/vnd.jupyter.widget-view+json": {
       "model_id": "9bacb9bcc0374f7580a246751fae09e7",
       "version_major": 2,
       "version_minor": 0
      },
      "text/plain": [
       "Output()"
      ]
     },
     "metadata": {},
     "output_type": "display_data"
    },
    {
     "data": {
      "application/vnd.jupyter.widget-view+json": {
       "model_id": "98c5b4f66f2f461e9decd09e0fe1ab9c",
       "version_major": 2,
       "version_minor": 0
      },
      "text/plain": [
       "VBox(children=(VBox(children=(IntSlider(value=6692, continuous_update=False, description='Seed: ', max=100000)…"
      ]
     },
     "metadata": {},
     "output_type": "display_data"
    }
   ],
   "source": [
    "def display_sample_pytorch(seed, truncation, dir0, dir1, dir2, dir3, dir4, dir5, dim0, dim1, dim2, dim3, dim4, dim5, scale, start, end, disp=True, save=None, noise_spec=None):\n",
    "    # blockPrint()\n",
    "    # with io.capture_output() as captured:\n",
    "    param = []\n",
    "    inv = []\n",
    "    \n",
    "    w = model.sample_latent(1, seed=seed).cpu().numpy()\n",
    "\n",
    "    model.truncation = truncation\n",
    "    w = [w]*model.get_max_latents() # one per layer\n",
    "    for l in range(start, end):\n",
    "        w[l] = w[l] + dir0 * dim0 * scale + dir1 * dim1 * scale + dir2 * dim2 * scale + dir3 * dim3 * scale + dir4 * dim4 * scale + dir5 * dim5 * scale\n",
    "        # param.append(transformer.transform(w[l]))\n",
    "        param.append(np.random.rand(1,6))\n",
    "        inv.append(transformer.inverse_transform(param[l]))\n",
    "        w[l][0] = inv[l][0].astype(np.float32)\n",
    "        \n",
    "    print(param[0][0][:num])\n",
    "\n",
    "    #save image and display\n",
    "    out = model.sample_np(w)\n",
    "    final_im = Image.fromarray((out * 255).astype(np.uint8)).resize((256,256),Image.LANCZOS)\n",
    "\n",
    "    if disp:\n",
    "      display(final_im)\n",
    "\n",
    "    if save is not None:\n",
    "      if disp == False:\n",
    "        print(save)\n",
    "      final_im.save(f'out/{seed}_{save:05}.png')\n",
    "\n",
    "\n",
    "seed = np.random.randint(0,100000)\n",
    "style = {'description_width': 'initial'}\n",
    "\n",
    "seed = widgets.IntSlider(min=0, max=100000, step=1, value=seed, description='Seed: ', continuous_update=False)\n",
    "truncation = widgets.FloatSlider(min=0, max=2, step=0.1, value=0.7, description='Truncation: ', continuous_update=False)\n",
    "dim0 = widgets.FloatSlider(min=-10, max=10, step=0.1, value=0, description='Comp1: ', continuous_update=False, style=style)\n",
    "dim1 = widgets.FloatSlider(min=-10, max=10, step=0.1, value=0, description='Comp2: ', continuous_update=False, style=style)\n",
    "dim2 = widgets.FloatSlider(min=-10, max=10, step=0.1, value=0, description='Comp3: ', continuous_update=False, style=style)\n",
    "dim3 = widgets.FloatSlider(min=-10, max=10, step=0.1, value=0, description='Comp4: ', continuous_update=False, style=style)\n",
    "dim4 = widgets.FloatSlider(min=-10, max=10, step=0.1, value=0, description='Comp5: ', continuous_update=False, style=style)\n",
    "dim5 = widgets.FloatSlider(min=-10, max=10, step=0.1, value=0, description='Comp6: ', continuous_update=False, style=style)\n",
    "scale = widgets.FloatSlider(min=0, max=10, step=0.05, value=1, description='Scale: ', continuous_update=False)\n",
    "start_layer = widgets.IntSlider(min=0, max=model.get_max_latents(), step=1, value=0, description='start layer: ', continuous_update=False)\n",
    "end_layer = widgets.IntSlider(min=0, max=model.get_max_latents(), step=1, value=18, description='end layer: ', continuous_update=False)\n",
    "\n",
    "# Make sure layer range is valid\n",
    "def update_range_start(*args):\n",
    "  end_layer.min = start_layer.value\n",
    "def update_range_end(*args):\n",
    "  start_layer.max = end_layer.value\n",
    "start_layer.observe(update_range_start, 'value')\n",
    "end_layer.observe(update_range_end, 'value')\n",
    "\n",
    "text = widgets.Text(description=\"Name component here\", style=style, width=200)\n",
    "\n",
    "bot_box = widgets.VBox([seed, dim0, dim1, dim2, dim3, dim4, dim5, scale, start_layer, end_layer])\n",
    "ui = widgets.VBox([bot_box])\n",
    "\n",
    "out = widgets.interactive_output(display_sample_pytorch, {'seed': seed, 'truncation': truncation, 'dir0': fixed(comp_dir[0]), 'dir1': fixed(comp_dir[1]), 'dir2': fixed(comp_dir[2]), 'dir3': fixed(comp_dir[3]), 'dir4': fixed(comp_dir[4]), 'dir5': fixed(comp_dir[5]), 'dim0': dim0, 'dim1': dim1, 'dim2': dim2, 'dim3': dim3, 'dim4': dim4, 'dim5': dim5, 'scale': scale, 'start': start_layer, 'end': end_layer})\n",
    "\n",
    "display(out, ui)"
   ]
  },
  {
   "cell_type": "markdown",
   "id": "b7f806c3-18c1-466c-b7a5-3669770c7fc7",
   "metadata": {},
   "source": [
    "## Single component\n",
    "### Load a component"
   ]
  },
  {
   "cell_type": "code",
   "execution_count": 5,
   "id": "410d4b24-178b-4edb-9f27-ec53f953ba35",
   "metadata": {},
   "outputs": [
    {
     "name": "stdout",
     "output_type": "stream",
     "text": [
      "Loaded Component No. 10\n"
     ]
    }
   ],
   "source": [
    "comps = np.load(path_to_components)\n",
    "lst = comps.files\n",
    "latent_dirs = []\n",
    "latent_stdevs = []\n",
    "comp_dir = []\n",
    "comp_dir_stdev = []\n",
    "\n",
    "load_activations = True\n",
    "\n",
    "for item in lst:\n",
    "    if load_activations:\n",
    "      if item == 'act_comp':\n",
    "        for i in range(comps[item].shape[0]):\n",
    "          latent_dirs.append(comps[item][i])\n",
    "      if item == 'act_stdev':\n",
    "        for i in range(comps[item].shape[0]):\n",
    "          latent_stdevs.append(comps[item][i])\n",
    "    else:\n",
    "      if item == 'lat_comp':\n",
    "        for i in range(comps[item].shape[0]):\n",
    "          latent_dirs.append(comps[item][i])\n",
    "      if item == 'lat_stdev':\n",
    "        for i in range(comps[item].shape[0]):\n",
    "          latent_stdevs.append(comps[item][i])\n",
    "            \n",
    "#load one at random \n",
    "# num = np.random.randint(20)\n",
    "# if num in named_directions.values():\n",
    "#   print(f'Direction already named: {list(named_directions.keys())[list(named_directions.values()).index(num)]}')\n",
    "\n",
    "num = 10\n",
    "\n",
    "# comp_dir = latent_dirs[num]\n",
    "# comp_dir_stdev = latent_stdevs[num]\n",
    "\n",
    "comp_dir.append(latent_dirs[num])\n",
    "comp_dir_stdev.append(latent_stdevs[num])\n",
    "    \n",
    "print(f'Loaded Component No. {num}')\n"
   ]
  },
  {
   "cell_type": "markdown",
   "id": "9c7cd982-6552-4a38-8367-479514e3af07",
   "metadata": {},
   "source": [
    "### Run UI"
   ]
  },
  {
   "cell_type": "code",
   "execution_count": 7,
   "id": "98004a39-180a-402a-a0b0-9ee205c83461",
   "metadata": {},
   "outputs": [
    {
     "data": {
      "application/vnd.jupyter.widget-view+json": {
       "model_id": "b7d81c2f4a9d4c2bb0095cfe5e36d62c",
       "version_major": 2,
       "version_minor": 0
      },
      "text/plain": [
       "Output()"
      ]
     },
     "metadata": {},
     "output_type": "display_data"
    },
    {
     "data": {
      "application/vnd.jupyter.widget-view+json": {
       "model_id": "6645e407934f4d5ab1169bef9edd1a0b",
       "version_major": 2,
       "version_minor": 0
      },
      "text/plain": [
       "VBox(children=(VBox(children=(IntSlider(value=47596, continuous_update=False, description='Seed: ', max=100000…"
      ]
     },
     "metadata": {},
     "output_type": "display_data"
    }
   ],
   "source": [
    "def display_sample_pytorch(seed, truncation, dir0, dim0, scale, start, end, disp=True, save=None, noise_spec=None):\n",
    "    # blockPrint()\n",
    "    # with io.capture_output() as captured:\n",
    "    param = []\n",
    "    w = model.sample_latent(1, seed=seed).cpu().numpy()\n",
    "\n",
    "    model.truncation = truncation\n",
    "    w = [w]*model.get_max_latents() # one per layer\n",
    "    for l in range(start, end):\n",
    "      w[l] = w[l] + dir0 * dim0 * scale \n",
    "      param.append(transformer.transform(w[l]))\n",
    "        \n",
    "#     print(param[0][0][num])\n",
    "\n",
    "    #save image and display\n",
    "    out = model.sample_np(w)\n",
    "    final_im = Image.fromarray((out * 255).astype(np.uint8)).resize((256,256),Image.LANCZOS)\n",
    "\n",
    "    if disp:\n",
    "      display(final_im)\n",
    "    if save is not None:\n",
    "      if disp == False:\n",
    "        print(save)\n",
    "      final_im.save(f'out/{seed}_{save:05}.png')\n",
    "\n",
    "\n",
    "seed = np.random.randint(0,100000)\n",
    "style = {'description_width': 'initial'}\n",
    "\n",
    "seed = widgets.IntSlider(min=0, max=100000, step=1, value=seed, description='Seed: ', continuous_update=False)\n",
    "truncation = widgets.FloatSlider(min=0, max=2, step=0.1, value=0.7, description='Truncation: ', continuous_update=False)\n",
    "dim0 = widgets.FloatSlider(min=-10, max=10, step=0.1, value=0, description='SelectedComp: ', continuous_update=False, style=style)\n",
    "scale = widgets.FloatSlider(min=0, max=10, step=0.05, value=1, description='Scale: ', continuous_update=False)\n",
    "start_layer = widgets.IntSlider(min=0, max=model.get_max_latents(), step=1, value=0, description='start layer: ', continuous_update=False)\n",
    "end_layer = widgets.IntSlider(min=0, max=model.get_max_latents(), step=1, value=18, description='end layer: ', continuous_update=False)\n",
    "\n",
    "# Make sure layer range is valid\n",
    "def update_range_start(*args):\n",
    "  end_layer.min = start_layer.value\n",
    "def update_range_end(*args):\n",
    "  start_layer.max = end_layer.value\n",
    "start_layer.observe(update_range_start, 'value')\n",
    "end_layer.observe(update_range_end, 'value')\n",
    "\n",
    "text = widgets.Text(description=\"Name component here\", style=style, width=200)\n",
    "\n",
    "bot_box = widgets.VBox([seed, dim0, scale, start_layer, end_layer])\n",
    "ui = widgets.VBox([bot_box])\n",
    "\n",
    "out = widgets.interactive_output(display_sample_pytorch, {'seed': seed, 'truncation': truncation, 'dir0': fixed(comp_dir[0]), 'dim0': dim0, 'scale': scale, 'start': start_layer, 'end': end_layer})\n",
    "\n",
    "display(out, ui)\n"
   ]
  },
  {
   "cell_type": "markdown",
   "id": "cde77ebf-9968-4b9a-a974-381a941bdd72",
   "metadata": {},
   "source": [
    "# Convert w to param"
   ]
  },
  {
   "cell_type": "code",
   "execution_count": 5,
   "id": "2a7f168e-b012-4171-8f80-1b50c33778d2",
   "metadata": {},
   "outputs": [
    {
     "name": "stdout",
     "output_type": "stream",
     "text": [
      "(34, 512)\n",
      "[[ 0.3440561  -0.950136    0.5900445  ... -0.62184376 -0.43264222\n",
      "   1.2390425 ]\n",
      " [ 0.37139365 -0.6246364   0.80698174 ... -1.2422309  -1.9276294\n",
      "  -0.23519118]\n",
      " [-0.09118952 -0.20676489  1.1669356  ... -0.7095085   1.6524553\n",
      "   0.98981756]\n",
      " ...\n",
      " [ 0.79115605 -0.30226016 -0.20428316 ... -0.8007261   0.14960529\n",
      "   0.93486595]\n",
      " [ 1.0991617  -0.961632    0.8275591  ...  0.46156552 -1.6141889\n",
      "   0.42750245]\n",
      " [ 0.14710009 -1.0717025   0.20085426 ... -0.7783195   0.9358142\n",
      "   0.01562361]]\n"
     ]
    }
   ],
   "source": [
    "w_test = np.load('questionnaire/w_test.npy')\n",
    "print(w_test.shape)\n",
    "print(w_test)\n",
    "param_test = transformer.transform(w_test)\n",
    "print(param_test.shape)\n",
    "print(param_test)\n",
    "np.save('questionnaire/param_test.npy', param_test)"
   ]
  }
 ],
 "metadata": {
  "kernelspec": {
   "display_name": "Python 3.8.5 ('base': conda)",
   "language": "python",
   "name": "python3"
  },
  "language_info": {
   "codemirror_mode": {
    "name": "ipython",
    "version": 3
   },
   "file_extension": ".py",
   "mimetype": "text/x-python",
   "name": "python",
   "nbconvert_exporter": "python",
   "pygments_lexer": "ipython3",
   "version": "3.8.5"
  },
  "vscode": {
   "interpreter": {
    "hash": "7cc5ae00119416989c9c0096dc10a3334cd3b043f2fc640f46b6b94f2ca4544b"
   }
  }
 },
 "nbformat": 4,
 "nbformat_minor": 5
}
